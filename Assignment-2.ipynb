{
 "cells": [
  {
   "cell_type": "raw",
   "id": "c06e0cb7-65c3-43ed-9da6-a7d2b05ceccc",
   "metadata": {},
   "source": [
    "Q1.How do you comment code in Python?What are the different type of comments?\n",
    "\n",
    " Comment code in Python using # symbol\n",
    "\n",
    " There are three types of comments: single-line, multi-line, and docstring comments."
   ]
  },
  {
   "cell_type": "raw",
   "id": "57610b8b-a3d2-4fd5-9dd9-d74fbc99c447",
   "metadata": {},
   "source": [
    "\n",
    "Q2.what are variables in python?How do you declare and assign values to variables?\n",
    "\n",
    "  A Python variable is a reserved memory location to store values. In other words, a variable in\n",
    "  a python program gives data to the computer for processing. Every value in Python has a \n",
    "  datatype. Different data types in Python are Numbers, List, Tuple, Strings, Dictionary, etc.\n",
    "\n",
    "  The assignment operator, denoted by the “=” symbol, is the operator that is used to assign\n",
    "  values to variables in Python. The line x=1 takes the known value, 1, and assigns that value\n",
    "  to the variable with name “x”."
   ]
  },
  {
   "cell_type": "raw",
   "id": "c93ca530-3078-47d3-bf94-0d2765e7002d",
   "metadata": {},
   "source": [
    "Q3.How do you convert one data type to another in python?\n",
    "\n",
    "  In Python, you can simply use the bin() function to convert from a decimal value to its \n",
    "  corresponding binary value. Similarly, the int() function to convert a binary to its decimal\n",
    "  value. The int() function takes as a second argument the base of the number to be converted,\n",
    "  which is 2 in the case of binary numbers."
   ]
  },
  {
   "cell_type": "raw",
   "id": "b7b6e95f-c818-4b81-afb2-2ab4aefc1942",
   "metadata": {},
   "source": [
    "Q4.How do you write and execute a Python script fron the command line?\n",
    "  Using the python command\n",
    " The most basic and easy way to run a Python script is by using the python command. You need\n",
    " to open a command line and type the word python followed by the path to your script file \n",
    " like this: python first_script.py Hello World! Then you hit the ENTER button from the \n",
    " keyboard, and that's it.\n"
   ]
  },
  {
   "cell_type": "raw",
   "id": "142caf8f-c17c-479b-9a9d-f5579a5986cf",
   "metadata": {},
   "source": [
    "Q5.Given a list my_list=[1,2,3,4,5] write the code to slice the list and obtain the sub-list[2,3].\n",
    "  \n",
    "  The slice code is l[1:3]\n",
    "\n"
   ]
  },
  {
   "cell_type": "raw",
   "id": "65657278-df25-4821-893e-0fdd4aa51153",
   "metadata": {},
   "source": [
    "Q6.What is a complex number in mathematics,and how is it represented in python?\n",
    " \n",
    "  It is written in the form of (x + yj) where x and y are real numbers and j is an imaginary\n",
    "   number which is the square root of -1.\n",
    "\n"
   ]
  },
  {
   "cell_type": "code",
   "execution_count": 2,
   "id": "00fa73aa-0342-4c3a-b631-4f2dd3d6f6d7",
   "metadata": {},
   "outputs": [
    {
     "name": "stdout",
     "output_type": "stream",
     "text": [
      "25\n"
     ]
    }
   ],
   "source": [
    "#Q7.What is the correct way to declare a variable named age and assign the value 25 to it?\n",
    "  \n",
    "age = 25\n",
    "print(age)"
   ]
  },
  {
   "cell_type": "raw",
   "id": "03e07b6a-da48-4014-ad6a-5b6cdb928b41",
   "metadata": {},
   "source": [
    "Q8.Declare a variable named price and assign the value 9.99 to it.What data type dose this\n",
    "  variable belong to?\n",
    "  \n",
    "  price=9.99\n",
    "  floting datatype."
   ]
  },
  {
   "cell_type": "code",
   "execution_count": 6,
   "id": "e7f0c3de-8904-418c-84b5-bc178ad57524",
   "metadata": {},
   "outputs": [
    {
     "name": "stdin",
     "output_type": "stream",
     "text": [
      "enter name ASHIS\n"
     ]
    },
    {
     "name": "stdout",
     "output_type": "stream",
     "text": [
      "ASHIS\n"
     ]
    }
   ],
   "source": [
    "'''Q9.Create a variable named name and assign tour full name to it as a string.How would tou print the \n",
    "   value of this variable ?'''\n",
    "    \n",
    "name = input('enter name')\n",
    "print(name)\n"
   ]
  },
  {
   "cell_type": "code",
   "execution_count": 9,
   "id": "4ffe5665-c3b2-4957-aa3a-e14d20777b36",
   "metadata": {},
   "outputs": [
    {
     "data": {
      "text/plain": [
       "'World'"
      ]
     },
     "execution_count": 9,
     "metadata": {},
     "output_type": "execute_result"
    }
   ],
   "source": [
    "'''Q10.Given the string\"Hello,World!\",extract the substring \"World\".'''\n",
    "   \n",
    "string = 'Hello,World!'\n",
    "string[6:11]"
   ]
  },
  {
   "cell_type": "code",
   "execution_count": 8,
   "id": "ec21ab07-c88a-4a4e-804d-ed75f731fb9a",
   "metadata": {},
   "outputs": [
    {
     "name": "stdout",
     "output_type": "stream",
     "text": [
      "True\n"
     ]
    }
   ],
   "source": [
    "'''Q11.Create a variable named \"is_student\" and assign it a boolean value indicating wheather you are\n",
    "  currently a student or not.'''\n",
    "  \n",
    "is_student=True\n",
    "print(is_student)\n"
   ]
  },
  {
   "cell_type": "code",
   "execution_count": null,
   "id": "2e11f401-2b03-4143-85e1-6cf982a72ce5",
   "metadata": {},
   "outputs": [],
   "source": []
  }
 ],
 "metadata": {
  "kernelspec": {
   "display_name": "Python 3 (ipykernel)",
   "language": "python",
   "name": "python3"
  },
  "language_info": {
   "codemirror_mode": {
    "name": "ipython",
    "version": 3
   },
   "file_extension": ".py",
   "mimetype": "text/x-python",
   "name": "python",
   "nbconvert_exporter": "python",
   "pygments_lexer": "ipython3",
   "version": "3.10.8"
  }
 },
 "nbformat": 4,
 "nbformat_minor": 5
}
